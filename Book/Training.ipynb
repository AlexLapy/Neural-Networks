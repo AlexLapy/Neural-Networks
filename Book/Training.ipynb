{
 "cells": [
  {
   "cell_type": "code",
   "execution_count": null,
   "metadata": {},
   "outputs": [],
   "source": [
    "from MyDatasetHelper import MyDatasetHelper\n",
    "import MyNeuralNetworks as nn"
   ]
  },
  {
   "cell_type": "code",
   "execution_count": null,
   "metadata": {},
   "outputs": [],
   "source": [
    "SAVE_PATH = \"fashion_mnist\\\\fashion_mnist_rdy\\\\preprocess_data.pickle\"\n",
    "MODEL_PATH = \"fashion_mnist\\\\fashion_mnist_model\\\\model_with_\""
   ]
  },
  {
   "cell_type": "code",
   "execution_count": null,
   "metadata": {},
   "outputs": [],
   "source": [
    "X_train, y_train, X_test, y_test = MyDatasetHelper.load_saved_dataset_static(SAVE_PATH)"
   ]
  },
  {
   "cell_type": "code",
   "execution_count": null,
   "metadata": {},
   "outputs": [],
   "source": [
    "print(\"X_train.shape: \", X_train.shape)\n",
    "print(\"y_train.shape: \", y_train.shape)\n",
    "print(\"X_test.shape: \", X_test.shape)\n",
    "print(\"y_test.shape: \", y_test.shape)"
   ]
  },
  {
   "cell_type": "code",
   "execution_count": null,
   "metadata": {},
   "outputs": [],
   "source": [
    "model = nn.Model()\n",
    "model.add(nn.Layer_Dense(X_train.shape[1], 256))\n",
    "model.add(nn.Activation_ReLU())\n",
    "model.add(nn.Layer_Dropout(0.2))\n",
    "model.add(nn.Layer_Dense(256, 256))\n",
    "model.add(nn.Activation_ReLU())\n",
    "model.add(nn.Layer_Dropout(0.2))\n",
    "model.add(nn.Layer_Dense(256, 10))\n",
    "model.add(nn.Activation_Softmax())\n",
    "\n",
    "model.set(\n",
    "    loss=nn.Loss_CategoricalCrossentropy(),\n",
    "    optimizer=nn.Optimizer_Adam(decay=1e-3),\n",
    "    accuracy=nn.Accuracy_Categorical()\n",
    ")\n",
    "\n",
    "model.finalize()"
   ]
  },
  {
   "cell_type": "code",
   "execution_count": null,
   "metadata": {},
   "outputs": [],
   "source": [
    "model.train(X_train, y_train, validation_data=(X_test, y_test), epochs=15, batch_size=128, print_every=100)"
   ]
  },
  {
   "cell_type": "code",
   "execution_count": null,
   "metadata": {},
   "outputs": [],
   "source": [
    "val_acc, val_loss = model.evaluate(X_test, y_test)"
   ]
  },
  {
   "cell_type": "code",
   "execution_count": null,
   "metadata": {},
   "outputs": [],
   "source": [
    "model.save(MODEL_PATH + f\"{val_acc:.3f}\")"
   ]
  }
 ],
 "metadata": {
  "kernelspec": {
   "display_name": "GPA678",
   "language": "python",
   "name": "python3"
  },
  "language_info": {
   "codemirror_mode": {
    "name": "ipython",
    "version": 3
   },
   "file_extension": ".py",
   "mimetype": "text/x-python",
   "name": "python",
   "nbconvert_exporter": "python",
   "pygments_lexer": "ipython3",
   "version": "3.10.8"
  },
  "orig_nbformat": 4
 },
 "nbformat": 4,
 "nbformat_minor": 2
}
