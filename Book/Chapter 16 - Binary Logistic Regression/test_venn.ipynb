{
 "cells": [
  {
   "cell_type": "code",
   "execution_count": null,
   "metadata": {},
   "outputs": [],
   "source": [
    "from venn_data import create_venn_data\n",
    "import matplotlib.pyplot as plt\n",
    "import numpy as np\n",
    "import nnfs\n",
    "\n",
    "#nnfs.init()\n",
    "\n",
    "plt.style.use('dark_background')\n",
    "plt.rcParams.update({\n",
    "    \"figure.facecolor\":  (0.12 , 0.12, 0.12, 1),\n",
    "    \"axes.facecolor\": (0.12 , 0.12, 0.12, 1),\n",
    "})\n",
    "\n",
    "\n",
    "X, y = create_venn_data(samples=100, classes=3)\n",
    "#X, y = spiral_data(samples=100, classes=3)\n",
    "\n",
    "y[:,0] *= 2\n",
    "y[:,1] *= 4\n",
    "y[:,2] *= 8\n",
    "# Plot the data\n",
    "plt.scatter(X[:, 0], X[:, 1], c=np.sum(y, axis=1, keepdims=True), s=40, cmap=\"tab10\")\n",
    "#plt.scatter(X[:, 0], X[:, 1], c=y.flatten(), s=40, cmap=\"summer\")\n",
    "plt.show()\n"
   ]
  },
  {
   "cell_type": "code",
   "execution_count": null,
   "metadata": {},
   "outputs": [],
   "source": [
    "print(X[320])\n",
    "print(y[320])\n",
    "print(y.shape)"
   ]
  }
 ],
 "metadata": {
  "kernelspec": {
   "display_name": "GPA678",
   "language": "python",
   "name": "python3"
  },
  "language_info": {
   "codemirror_mode": {
    "name": "ipython",
    "version": 3
   },
   "file_extension": ".py",
   "mimetype": "text/x-python",
   "name": "python",
   "nbconvert_exporter": "python",
   "pygments_lexer": "ipython3",
   "version": "3.10.8"
  },
  "orig_nbformat": 4
 },
 "nbformat": 4,
 "nbformat_minor": 2
}
