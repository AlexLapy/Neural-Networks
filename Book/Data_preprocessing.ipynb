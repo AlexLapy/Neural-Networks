{
 "cells": [
  {
   "cell_type": "code",
   "execution_count": 30,
   "metadata": {},
   "outputs": [],
   "source": [
    "from MyDatasetHelper import MyDatasetHelper\n",
    "import numpy as np\n",
    "import matplotlib.pyplot as plt"
   ]
  },
  {
   "cell_type": "code",
   "execution_count": 27,
   "metadata": {},
   "outputs": [],
   "source": [
    "DATASET_PATH = \"fashion_mnist\\\\fashion_mnist_test\"\n",
    "SAVE_PATH = \"fashion_mnist\\\\fashion_mnist_rdy\\\\preprocess_data.pickle\"\n",
    "CLASS_NAMES = [\"T-shirt/top\", \"Trouser\", \"Pullover\", \"Dress\", \"Coat\",\n",
    "                \"Sandal\", \"Shirt\", \"Sneaker\", \"Bag\", \"Ankle boot\"]\n",
    "IMAGE_SIZE = (28, 28)\n",
    "TRAIN_TEST_SPLIT = 0.2\n",
    "SHUFFLE_DATA = True"
   ]
  },
  {
   "cell_type": "code",
   "execution_count": 22,
   "metadata": {},
   "outputs": [],
   "source": [
    "ds = MyDatasetHelper(DATASET_PATH, CLASS_NAMES, IMAGE_SIZE, TRAIN_TEST_SPLIT, SHUFFLE_DATA)"
   ]
  },
  {
   "cell_type": "code",
   "execution_count": 23,
   "metadata": {},
   "outputs": [
    {
     "name": "stdout",
     "output_type": "stream",
     "text": [
      "Loading dataset...\n",
      "Shuffling dataset...\n",
      "Dataset shuffled\n",
      "Dataset loaded\n"
     ]
    }
   ],
   "source": [
    "ds.load_dataset()"
   ]
  },
  {
   "cell_type": "code",
   "execution_count": 24,
   "metadata": {},
   "outputs": [
    {
     "name": "stdout",
     "output_type": "stream",
     "text": [
      "Normalizing dataset...\n",
      "Dataset normalized\n",
      "-1.0 1.0\n"
     ]
    }
   ],
   "source": [
    "ds.normalize()\n",
    "print(ds.X_train.min(), ds.X_train.max())\n"
   ]
  },
  {
   "cell_type": "code",
   "execution_count": 25,
   "metadata": {},
   "outputs": [
    {
     "name": "stdout",
     "output_type": "stream",
     "text": [
      "Reshaping dataset...\n",
      "Dataset reshaped\n",
      "Dataset info:\n",
      "X_train shape: (48000, 784)\n",
      "y_train shape: (48000,)\n",
      "X_test shape: (12000, 784)\n",
      "y_test shape: (12000,)\n"
     ]
    }
   ],
   "source": [
    "ds.reshape_to_data()\n",
    "ds.print_dataset_info()"
   ]
  },
  {
   "cell_type": "code",
   "execution_count": 29,
   "metadata": {},
   "outputs": [
    {
     "name": "stdout",
     "output_type": "stream",
     "text": [
      "Saving dataset...\n",
      "Dataset saved\n"
     ]
    }
   ],
   "source": [
    "ds.save_dataset(SAVE_PATH)"
   ]
  }
 ],
 "metadata": {
  "kernelspec": {
   "display_name": "GPA678",
   "language": "python",
   "name": "python3"
  },
  "language_info": {
   "codemirror_mode": {
    "name": "ipython",
    "version": 3
   },
   "file_extension": ".py",
   "mimetype": "text/x-python",
   "name": "python",
   "nbconvert_exporter": "python",
   "pygments_lexer": "ipython3",
   "version": "3.10.8"
  },
  "orig_nbformat": 4
 },
 "nbformat": 4,
 "nbformat_minor": 2
}
