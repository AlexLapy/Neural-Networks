{
 "cells": [
  {
   "cell_type": "code",
   "execution_count": null,
   "metadata": {},
   "outputs": [],
   "source": [
    "from MyDatasetHelper import MyDatasetHelper\n",
    "import MyNeuralNetworks as nn\n",
    "import os\n",
    "import cv2\n",
    "from matplotlib import pyplot as plt\n",
    "import numpy as np"
   ]
  },
  {
   "cell_type": "code",
   "execution_count": null,
   "metadata": {},
   "outputs": [],
   "source": [
    "DATASET_PATH = \"fashion_mnist\\\\fashion_mnist_test\"\n",
    "CLASS_NAMES = [\"T-shirt/top\", \"Trouser\", \"Pullover\", \"Dress\", \"Coat\",\n",
    "                \"Sandal\", \"Shirt\", \"Sneaker\", \"Bag\", \"Ankle boot\"]\n",
    "\n",
    "MODEL_PATH = \"fashion_mnist\\\\fashion_mnist_model\"\n",
    "SAVE_PATH = \"fashion_mnist\\\\fashion_mnist_rdy\\\\preprocess_data.pickle\""
   ]
  },
  {
   "cell_type": "code",
   "execution_count": null,
   "metadata": {},
   "outputs": [],
   "source": [
    "X_train, y_train, X_test, y_test = MyDatasetHelper.load_saved_dataset_static(SAVE_PATH)"
   ]
  },
  {
   "cell_type": "code",
   "execution_count": null,
   "metadata": {},
   "outputs": [],
   "source": [
    "models_files = os.listdir(MODEL_PATH)\n",
    "models_files.sort()\n",
    "print(models_files)\n",
    "best_model_file = models_files[-1]"
   ]
  },
  {
   "cell_type": "code",
   "execution_count": null,
   "metadata": {},
   "outputs": [],
   "source": [
    "Model = nn.Model.load(os.path.join(MODEL_PATH, best_model_file))"
   ]
  },
  {
   "cell_type": "code",
   "execution_count": null,
   "metadata": {},
   "outputs": [],
   "source": [
    "_ = Model.evaluate(X_test, y_test)"
   ]
  },
  {
   "cell_type": "code",
   "execution_count": null,
   "metadata": {},
   "outputs": [],
   "source": [
    "random_number = np.random.randint(0, len(X_test))\n",
    "random_image = X_test[random_number]\n",
    "random_image_plt = random_image.reshape(28, 28)\n",
    "plt.imshow(random_image_plt, cmap=\"gray\")\n",
    "\n",
    "print(f\"Real class = {CLASS_NAMES[y_test[random_number]]}\")\n",
    "confidence = Model.predict(random_image)\n",
    "prediction = Model.output_layer_activation.predictions(confidence)\n",
    "print(f\"Pred class = {CLASS_NAMES[prediction[0]]}\")\n",
    "print(f\"Confidence = {confidence[0][prediction[0]]}\")"
   ]
  }
 ],
 "metadata": {
  "kernelspec": {
   "display_name": "GPA678",
   "language": "python",
   "name": "python3"
  },
  "language_info": {
   "codemirror_mode": {
    "name": "ipython",
    "version": 3
   },
   "file_extension": ".py",
   "mimetype": "text/x-python",
   "name": "python",
   "nbconvert_exporter": "python",
   "pygments_lexer": "ipython3",
   "version": "3.10.8"
  },
  "orig_nbformat": 4
 },
 "nbformat": 4,
 "nbformat_minor": 2
}
